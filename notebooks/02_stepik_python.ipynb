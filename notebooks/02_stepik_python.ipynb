{
 "cells": [
  {
   "cell_type": "code",
   "execution_count": null,
   "id": "36464086-6285-48b3-b339-39e8f62a535d",
   "metadata": {},
   "outputs": [],
   "source": [
    "№1 Алгоритм получения цифр n-значного числа на примере четырёхзначного числа"
   ]
  },
  {
   "cell_type": "code",
   "execution_count": null,
   "id": "be764c16-5e5a-41de-91a2-60c22f089534",
   "metadata": {},
   "outputs": [],
   "source": [
    "number = int(input())  # 3281\n",
    "first_digit = (\n",
    "    number // 1000\n",
    ")  # вычлиняем первую цифру, берём 1000, т.к по условию число четырёхзначное\n",
    "second_digit = (\n",
    "    number % 1000\n",
    ") // 100  # вычлиняем 281 и, производя деления от целого на 100, забираем 2\n",
    "third_digit = (number % 100) // 10  # вычлиняем 81 и затем 8.\n",
    "fourth_digit = number % 10  # вычлиняем последнюю цифру.\n",
    "print(\"Цифра в позиции тысяч равна\", first_digit)\n",
    "print(\"Цифра в позиции сотен равна\", second_digit)\n",
    "print(\"Цифра в позиции десятков равна\", third_digit)\n",
    "print(\"Цифра в позиции единиц равна\", fourth_digit)\n"
   ]
  },
  {
   "cell_type": "code",
   "execution_count": null,
   "id": "cd8664ed-919e-411b-9d54-dfbbe21a5bec",
   "metadata": {},
   "outputs": [],
   "source": [
    "№2 Алгоритм получения цифр n-значного числа на примере пятизначного числа"
   ]
  },
  {
   "cell_type": "code",
   "execution_count": null,
   "id": "6f5aa66d-4a05-48c3-b197-220219ad5d7c",
   "metadata": {},
   "outputs": [],
   "source": [
    "number = int(input())  # 32812\n",
    "first_digit = number // 10000 # вычлиняем первую цифру\n",
    "second_digit = (number % 10000) // 1000 # отделяем десятитысячную часть и вычленяем первую цифру из тысячной части\n",
    "third_digit = (number % 1000) // 100 # отделяем тысячную часть и вычленяем первую цифру из сотой части\n",
    "fourth_digit = (number % 100) // 10 # отделяем сотую часть и вычленяем первую цифру из оставшихся десятков\n",
    "fifth_digit = number % 10 # с помощью остатка от деления получаем последнюю цифру\n",
    "print(\"Цифра в позиции десятков тысяч равна\", first_digit)\n",
    "print(\"Цифра в позиции тысяч равна\", second_digit)\n",
    "print(\"Цифра в позиции сотен равна\", third_digit)\n",
    "print(\"Цифра в позиции десятков равна\", fourth_digit)\n",
    "print(\"Цифра в позиции единиц равна\", fifth_digit)"
   ]
  },
  {
   "cell_type": "code",
   "execution_count": null,
   "id": "e5895aaa-1976-4dff-b446-5895e3259387",
   "metadata": {},
   "outputs": [],
   "source": [
    "№3 Напишите программу, которая проверяет, что для заданного четырехзначного числа выполняется следующее соотношение:\n",
    "сумма первой и последней цифр равна разности второй и третьей цифр."
   ]
  },
  {
   "cell_type": "code",
   "execution_count": null,
   "id": "fdad2c7f-c4c4-459a-9fb5-bd3594cfde36",
   "metadata": {},
   "outputs": [],
   "source": [
    "number = int(input())\n",
    "first_digit = number // 1000  # вычлиняем первую цифру\n",
    "last_digit = number % 10  # избавляемся от всего, кроме единиц\n",
    "second_digit = (number % 1000) // 100  # избавляемся от тысячной части, вычленяем сотые\n",
    "third_digit = (number % 100) // 10  # избавляемся от сотой части, вычленяем десятые\n",
    "sum_1_4 = first_digit + last_digit\n",
    "difference_2_3 = second_digit - third_digit\n",
    "if sum_1_4 == difference_2_3:  # проверка условий\n",
    "    print(\"ДА\")\n",
    "else:\n",
    "    print(\"НЕТ\")\n"
   ]
  },
  {
   "cell_type": "code",
   "execution_count": null,
   "id": "eb2eb33e-13f7-4853-89b6-3f46a05f710a",
   "metadata": {},
   "outputs": [],
   "source": [
    "№4 Напишите программу, которая определяет, являются ли три заданных числа (в указанном порядке) последовательными членами арифметической прогрессии."
   ]
  },
  {
   "cell_type": "code",
   "execution_count": null,
   "id": "fa3848ea-2796-44e0-8f20-931105a13c6a",
   "metadata": {},
   "outputs": [],
   "source": [
    "num1 = int(input())\n",
    "num2 = int(input())\n",
    "num3 = int(input())\n",
    "if num3 - num2 == num2 - num1: #d значение, на которое возрастает последующий член прогрессии и равен разности следующего и предыдущего\n",
    "    print(\"YES\")\n",
    "else:\n",
    "    print(\"NO\")\n"
   ]
  },
  {
   "cell_type": "code",
   "execution_count": null,
   "id": "16d803cd-73ac-4143-a0db-f588ec9f8d96",
   "metadata": {},
   "outputs": [],
   "source": [
    "№5 Даны две различные клетки шахматной доски. Напишите программу, которая определяет, может ли король попасть с первой клетки на вторую одним ходом. Программа получает на вход четыре числа от 1 до 8\n",
    "каждое, задающие номер столбца и номер строки сначала для первой клетки, потом для второй клетки. Программа должна вывести «YES» (без кавычек), если из первой клетки ходом короля можно попасть во вторую, или «NO» (без кавычек) в противном случае."
   ]
  },
  {
   "cell_type": "code",
   "execution_count": null,
   "id": "46f9db03-c8c2-4324-bb86-f361c2dbbcb8",
   "metadata": {},
   "outputs": [],
   "source": [
    "x1 = int(input())\n",
    "y1 = int(input())\n",
    "x2 = int(input())\n",
    "y2 = int(input())\n",
    "if (\n",
    "    ((x1 == x2) and ((y1 - y2 == 1) or (y2 - y1 == 1))) #для случая, если столбцы одинаковые\n",
    "    or (y1 == y2 and ((x1 - x2 == 1) or (x2 - x1 == 1))) #для случая, еали строки одинаковые\n",
    "    or (((x1 - x2 == 1) or (x2 - x1 == 1)) and ((y1 - y2 == 1) or (y2 - y1 == 1))) # для остальных случаев \n",
    "):\n",
    "    print(\"YES\")\n",
    "else:\n",
    "    print(\"NO\")\n",
    "\n",
    "#Можно было решить более кратко, записав разности в диапозон от -1 и до 1, который позволяет включить все случаи. Например (-1 <= x1 - x2 <= 1) and (-1 <= y1 - y2 <= 1)"
   ]
  },
  {
   "cell_type": "code",
   "execution_count": null,
   "id": "eb72a9ac-38d9-4a1f-9266-891fc8238cd3",
   "metadata": {},
   "outputs": [],
   "source": [
    "№6\n",
    "На колесе рулетки карманы пронумерованы от 0 до 36. \n",
    "Ниже приведены цвета карманов: \n",
    "карман 0 – зеленый; \n",
    "для карманов с 1 по 10 карманы с нечётным номером имеют красный цвет, карманы с чётным номером – черный; \n",
    "для карманов с 11 по 18 карманы с нечётным номером имеют черный цвет, карманы с чётным номером – красный;\n",
    "для карманов с 19 по 28 карманы с нечётным номером имеют красный цвет, карманы с чётным номером – черный; \n",
    "для карманов с 29 по 36 карманы с нечётным номером имеют черный цвет, карманы с чётным номером – красный."
   ]
  },
  {
   "cell_type": "code",
   "execution_count": null,
   "id": "2e53e4f5-7e5a-416e-a853-4d88d19db31b",
   "metadata": {},
   "outputs": [],
   "source": [
    "n = int(input()) #вариант 1 \n",
    "if n == 0:\n",
    "    print(\"зеленый\")\n",
    "elif n % 2 != 0:\n",
    "    if (1 <= n <= 10) or (19 <= n <= 28):\n",
    "        print(\"красный\")\n",
    "    elif (11 <= n <= 18) or (29 <= n <= 36):\n",
    "        print(\"черный\")\n",
    "    else:\n",
    "        print(\"ошибка ввода\")\n",
    "elif n % 2 == 0:\n",
    "    if (1 <= n <= 10) or (19 <= n <= 28):\n",
    "        print(\"черный\")\n",
    "    elif (11 <= n <= 18) or (29 <= n <= 36):\n",
    "        print(\"красный\")\n",
    "    else:\n",
    "        print(\"ошибка ввода\")\n",
    "else:\n",
    "    print(\"ошибка ввода\")\n",
    "\n",
    "\n",
    "n = int(input()) #вариант 2\n",
    "if n == 0:\n",
    "    print(\"зеленый\")\n",
    "elif n % 2 != 0 and 0 < n <= 36:\n",
    "    if (1 <= n <= 10) or (19 <= n <= 28):\n",
    "        print(\"красный\")\n",
    "    elif (11 <= n <= 18) or (29 <= n <= 36):\n",
    "        print(\"черный\")\n",
    "elif n % 2 == 0 and 0 < n <= 36:\n",
    "    if (1 <= n <= 10) or (19 <= n <= 28):\n",
    "        print(\"черный\")\n",
    "    elif (11 <= n <= 18) or (29 <= n <= 36):\n",
    "        print(\"красный\")\n",
    "else:\n",
    "    print(\"ошибка ввода\")\n",
    "\n",
    "n = int(input()) #вариант 3\n",
    "if n == 0:\n",
    "    print(\"зеленый\")\n",
    "elif 0 < n <= 36:\n",
    "    if n % 2 != 0:\n",
    "        if (1 <= n <= 10) or (19 <= n <= 28):\n",
    "            print(\"красный\")\n",
    "        else:\n",
    "            print(\"черный\")\n",
    "    if n % 2 == 0:\n",
    "        if (1 <= n <= 10) or (19 <= n <= 28):\n",
    "            print(\"черный\")\n",
    "        else:\n",
    "            print(\"красный\")\n",
    "else:\n",
    "    print(\"ошибка ввода\")\n"
   ]
  },
  {
   "cell_type": "code",
   "execution_count": null,
   "id": "ccb33d4d-4e45-49c7-a86e-0b5862acf692",
   "metadata": {},
   "outputs": [],
   "source": [
    "№7 На числовой прямой даны два отрезка: Напишите программу, которая находит их пересечение.\n",
    "Пересечением двух отрезков может быть: отрезок, точка, пустое множество;"
   ]
  },
  {
   "cell_type": "code",
   "execution_count": null,
   "id": "92a62e09-bba2-4b3c-a87d-89dfb77a5268",
   "metadata": {},
   "outputs": [],
   "source": [
    "a1 = int(input())\n",
    "b1 = int(input())\n",
    "a2 = int(input())\n",
    "b2 = int(input())\n",
    "if b2 > b1:\n",
    "    if a1 < a2 and b1 < a2:\n",
    "        print(\"пустое множество\")\n",
    "    elif a2 < b1 and a1 < a2:\n",
    "        print(a2, b1)\n",
    "    elif b1 == a2 and a1 < a2:\n",
    "        print(b1)\n",
    "    elif a1 == a2:\n",
    "        print(a1, b1)\n",
    "    elif a2 < a1:\n",
    "        print(a1, b1)\n",
    "elif b1 > b2:\n",
    "    if a2 < a1 and b2 < a1:\n",
    "        print(\"пустое множество\")\n",
    "    elif a1 < b2 and a2 < a1:\n",
    "        print(a1, b2)\n",
    "    elif b2 == a1 and a2 < a1:\n",
    "        print(b2)\n",
    "    elif a2 == a1:\n",
    "        print(a2, b2)\n",
    "    elif a1 < a2:\n",
    "        print(a2, b2)\n",
    "elif b1 == b2:\n",
    "    if a2 < a1:\n",
    "        print(a1, b1)\n",
    "    elif a2 > a1:\n",
    "        print(a2, b2)\n",
    "    else:\n",
    "        print(a1, b1)\n",
    "elif (a1 < b1 and a1 == a2) and b1 == b2:\n",
    "    print(a1, b1)\n",
    "#громоздкое решение"
   ]
  },
  {
   "cell_type": "code",
   "execution_count": null,
   "id": "2851e536-850d-456e-b387-86844a0529e6",
   "metadata": {},
   "outputs": [],
   "source": [
    "№8 Даны две различные клетки шахматной доски. \n",
    "Напишите программу, которая определяет, может ли слон попасть с первой клетки на вторую одним ходом. \n",
    "Программа получает на вход четыре числа от 1 до 8 каждое, задающие номер столбца и номер строки сначала для первой клетки, потом для второй клетки. \n",
    "Программа должна вывести «YES», если из первой клетки ходом слона можно попасть во вторую, или «NO» в противном случае."
   ]
  },
  {
   "cell_type": "code",
   "execution_count": null,
   "id": "961c289a-5cc0-40d8-bc7b-6a69e28b54f4",
   "metadata": {},
   "outputs": [],
   "source": [
    "x1 = int(input())\n",
    "y1 = int(input())\n",
    "x2 = int(input())\n",
    "y2 = int(input())\n",
    "if x1 == x2 or y1 == y2:#ход невозможен, если строки или столбцы одинаковые\n",
    "    print(\"NO\")\n",
    "elif (x2 + y2 == x1 + y1) or (x1 - x2 == y1 - y2): \n",
    "    print(\"YES\")\n",
    "else:\n",
    "    print(\"NO\")\n",
    "# перваи диагональ - идёт на убывание, суммые координат \n",
    "# одинаковые на каждой клетке. Вторая диагональ идёт на увеличение, разности x-ов и y-ов одинаковые.\n",
    "                                                    "
   ]
  },
  {
   "cell_type": "code",
   "execution_count": null,
   "id": "1b36857a-8680-4306-b8b7-6c42e91fb236",
   "metadata": {},
   "outputs": [],
   "source": [
    "№9 Ход ферзя"
   ]
  },
  {
   "cell_type": "code",
   "execution_count": null,
   "id": "ecb9ff9a-c159-4ef2-ae60-6865f790aa4a",
   "metadata": {},
   "outputs": [],
   "source": [
    "x1 = int(input())\n",
    "y1 = int(input())\n",
    "x2 = int(input())\n",
    "y2 = int(input())\n",
    "if (\n",
    "    (x2 + y2 == x1 + y1)\n",
    "    or (x1 - x2 == y1 - y2)\n",
    "    or x1 == x2\n",
    "    or y1 == y2\n",
    "    or (\n",
    "        (\n",
    "            ((x1 == x2) and ((y1 - y2 == 1) or (y2 - y1 == 1)))\n",
    "            or (y1 == y2 and ((x1 - x2 == 1) or (x2 - x1 == 1)))\n",
    "            or (\n",
    "                ((x1 - x2 == 1) or (x2 - x1 == 1))\n",
    "                and ((y1 - y2 == 1) or (y2 - y1 == 1))\n",
    "            )\n",
    "        )\n",
    "    )\n",
    "):\n",
    "    print(\"YES\")\n",
    "else:\n",
    "    print(\"NO\")\n",
    "#Объединяем две фигуры в одну = ладья + слон"
   ]
  },
  {
   "cell_type": "code",
   "execution_count": null,
   "id": "56a38721-3513-4f6f-910a-8a6c2c5689d9",
   "metadata": {},
   "outputs": [],
   "source": [
    "№10 \n",
    " На вход программе подаётся число n – количество собачьих лет. \n",
    "Напишите программу, которая вычисляет возраст собаки в человеческих годах по следующему алгоритму:\n",
    "в течение первых двух лет собачий год равен 10.5 человеческим годам, после этого каждый год собаки \n",
    "равен 4 человеческим годам."
   ]
  },
  {
   "cell_type": "code",
   "execution_count": null,
   "id": "2ba5088d-a0e6-4216-bc6d-032ad579004a",
   "metadata": {},
   "outputs": [],
   "source": [
    "dog_age = int(input())\n",
    "human_age = 0\n",
    "if dog_age > 2:\n",
    "    human_age = 21 + ((dog_age - 2) * 4) #dog_age - 2 (количество лет без первых двух лет жизни)\n",
    "else:\n",
    "    human_age = dog_age * 10.5\n",
    "print(human_age)\n"
   ]
  },
  {
   "cell_type": "code",
   "execution_count": null,
   "id": "262c7a99-61c8-48ad-b261-306ac8acc96d",
   "metadata": {},
   "outputs": [],
   "source": [
    "№11 \n",
    "Назовём число интересным, если в нём разность максимальной\n",
    "и минимальной цифры равняется средней по величине цифре. \n",
    "Напишите программу, которая определяет, интересное число или нет.\n",
    "Если число интересное, следует вывести текст «Число интересное» (без кавычек),\n",
    "иначе – «Число неинтересное» (без кавычек)."
   ]
  },
  {
   "cell_type": "code",
   "execution_count": null,
   "id": "5b2d1824-4845-40e1-bda4-c49d8a6182fd",
   "metadata": {},
   "outputs": [],
   "source": [
    "number = int(input())\n",
    "fisrt_digit = number // 100\n",
    "second_digit = (number // 10) % 10\n",
    "third_digit = number % 10\n",
    "max_number = max(fisrt_digit, second_digit, third_digit)\n",
    "min_number = min(fisrt_digit, second_digit, third_digit)\n",
    "average_number = (fisrt_digit + second_digit + third_digit) - (max_number + min_number)\n",
    "if average_number == max_number - min_number:\n",
    "    print(\"Число интересное\")\n",
    "else:\n",
    "    print(\"Число неинтересное\")"
   ]
  },
  {
   "cell_type": "code",
   "execution_count": null,
   "id": "2125bc52-a7ef-439d-b23a-45350ab885c9",
   "metadata": {},
   "outputs": [],
   "source": [
    "№12 Даны названия трёх городов. \n",
    "Напишите программу, которая определяет самое короткое\n",
    "и самое длинное название города."
   ]
  },
  {
   "cell_type": "code",
   "execution_count": null,
   "id": "d0095987-ef0d-4fbd-83ca-61a39c9a654c",
   "metadata": {},
   "outputs": [],
   "source": [
    "#громоздкео и затем исправленное решение\n",
    "city_name1, city_name2, city_name3 = (\n",
    "    str(input()),\n",
    "    str(input()),\n",
    "    str(input()),\n",
    ")\n",
    "len1, len2, len3 = len(city_name1), len(city_name2), len(city_name3)\n",
    "max_len = max(len1, len2, len3)\n",
    "min_len = min(len1, len2, len3)\n",
    "# all_len = len1 + len2 + len3\n",
    "# if all_len - (max_len + min_len) == len3:\n",
    "#     if len1 > len2:\n",
    "#         print(city_name2)\n",
    "#         print(city_name1)\n",
    "#     else:\n",
    "#         print(city_name1)\n",
    "#         print(city_name2)\n",
    "# elif all_len - (max_len + min_len) == len2:\n",
    "#     if len1 > len3:\n",
    "#         print(city_name3)\n",
    "#         print(city_name1)\n",
    "#     else:\n",
    "#         print(city_name1)\n",
    "#         print(city_name3)\n",
    "# elif all_len - (max_len + min_len) == len1:\n",
    "#     if len2 > len3:\n",
    "#         print(city_name3)\n",
    "#         print(city_name2)\n",
    "#     else:\n",
    "#         print(city_name2)\n",
    "#         print(city_name3)\n",
    "\n",
    "if min_len == len1:\n",
    "    print(city_name1)\n",
    "elif min_len == len2:\n",
    "    print(city_name2)\n",
    "else:\n",
    "    print(city_name3)\n",
    "\n",
    "if max_len == len1:\n",
    "    print(city_name1)\n",
    "elif max_len == len2:\n",
    "    print(city_name2)\n",
    "else:\n",
    "    print(city_name3)\n"
   ]
  },
  {
   "cell_type": "code",
   "execution_count": null,
   "id": "14c374e0-5bb2-44f8-873a-5fe5c43391db",
   "metadata": {},
   "outputs": [],
   "source": [
    "№13 Вводятся 3 строки в случайном порядке. \n",
    "Напишите программу, которая выясняет,можно ли из длин этих \n",
    "строк построить арифметическую прогрессию."
   ]
  },
  {
   "cell_type": "code",
   "execution_count": null,
   "id": "a6c4e9df-cf5d-4e6b-805f-7a858b6e68c5",
   "metadata": {},
   "outputs": [],
   "source": [
    "line1, line2, line3 = (\n",
    "    str(input()),\n",
    "    str(input()),\n",
    "    str(input()),\n",
    ")\n",
    "num1 = len(line1)\n",
    "num2 = len(line2)\n",
    "num3 = len(line3)\n",
    "\n",
    "sum_num = num1 + num2 + num3\n",
    "max_num = max(num1, num2, num3)\n",
    "min_num = min(num1, num2, num3)\n",
    "mid_num = sum_num - (max_num + min_num)\n",
    "\n",
    "if max_num == min_num + 2 * (\n",
    "    max_num - mid_num\n",
    "):  # max_numb - mid_num == mid_num - min_num\n",
    "    print(\"YES\")\n",
    "else:\n",
    "    print(\"NO\")"
   ]
  },
  {
   "cell_type": "code",
   "execution_count": null,
   "id": "1018db60-e907-4918-aad2-e8aecf6d3923",
   "metadata": {},
   "outputs": [],
   "source": [
    "№14 Пробуем подключив модельу math, написать формулу для нахождения евклидового расстояния."
   ]
  },
  {
   "cell_type": "code",
   "execution_count": null,
   "id": "9d2d64a7-af01-4868-a373-c05227f78a26",
   "metadata": {},
   "outputs": [],
   "source": [
    "from math import sqrt, pow #квадратный корень из числа, возведение в степень\n",
    "\n",
    "x1, y1, x2, y2 = float(input()), float(input()), float(input()), float(input())\n",
    "p = sqrt(pow(x1 - x2, 2) + pow(y1 - y2, 2))\n",
    "print(p)\n"
   ]
  },
  {
   "cell_type": "code",
   "execution_count": null,
   "id": "d44f49d7-89dc-4728-80ce-2a37b73fe5e0",
   "metadata": {},
   "outputs": [],
   "source": [
    "№15 Вспоминаем, как находить корни квадратного уравнения."
   ]
  },
  {
   "cell_type": "code",
   "execution_count": null,
   "id": "9415589f-319e-49ea-b5bb-57a0c8619db0",
   "metadata": {},
   "outputs": [],
   "source": [
    "from math import *\n",
    "\n",
    "a, b, c = float(input()), float(input()), float(input())\n",
    "discr = pow(b, 2) - (4 * a * c)\n",
    "if discr > 0:\n",
    "    x1 = (-b - sqrt(discr)) / (2 * a)\n",
    "    x2 = (-b + sqrt(discr)) / (2 * a)\n",
    "    print(min(x1, x2))\n",
    "    print(max(x1, x2))\n",
    "elif discr == 0:\n",
    "    x = -b / (2 * a)\n",
    "    print(x)\n",
    "else:\n",
    "    print(\"Нет корней\")\n"
   ]
  },
  {
   "cell_type": "code",
   "execution_count": null,
   "id": "ebabd8b8-3281-4555-9b5e-eea953bc75e6",
   "metadata": {},
   "outputs": [],
   "source": [
    "№16 На вход программе подаётся натуральное число n. \n",
    "Напишите программу, которая для каждого из чисел от \n",
    "0 до n (включительно) выводит текст в следующем формате:\n",
    "Квадрат числа <текущее число> равен <квадрат текущего числа>"
   ]
  },
  {
   "cell_type": "code",
   "execution_count": null,
   "id": "2dba9531-a5ff-4499-85f4-46ad48dafed3",
   "metadata": {},
   "outputs": [],
   "source": [
    "n_times = int(input())\n",
    "for i in range(n_times + 1):\n",
    "    print(\"Квадрат числа\", i, \"равен\", i**2)\n"
   ]
  }
 ],
 "metadata": {
  "kernelspec": {
   "display_name": "Python 3 (ipykernel)",
   "language": "python",
   "name": "python3"
  },
  "language_info": {
   "codemirror_mode": {
    "name": "ipython",
    "version": 3
   },
   "file_extension": ".py",
   "mimetype": "text/x-python",
   "name": "python",
   "nbconvert_exporter": "python",
   "pygments_lexer": "ipython3",
   "version": "3.11.11"
  }
 },
 "nbformat": 4,
 "nbformat_minor": 5
}
