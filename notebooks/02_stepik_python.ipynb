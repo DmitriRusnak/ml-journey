{
 "cells": [
  {
   "cell_type": "code",
   "execution_count": null,
   "id": "36464086-6285-48b3-b339-39e8f62a535d",
   "metadata": {},
   "outputs": [],
   "source": [
    "№1 Алгоритм получения цифр n-значного числа на примере четырёхзначного числа"
   ]
  },
  {
   "cell_type": "code",
   "execution_count": null,
   "id": "be764c16-5e5a-41de-91a2-60c22f089534",
   "metadata": {},
   "outputs": [],
   "source": [
    "number = int(input())  # 3281\n",
    "first_digit = (\n",
    "    number // 1000\n",
    ")  # вычлиняем первую цифру, берём 1000, т.к по условию число четырёхзначное\n",
    "second_digit = (\n",
    "    number % 1000\n",
    ") // 100  # вычлиняем 281 и, производя деления от целого на 100, забираем 2\n",
    "third_digit = (number % 100) // 10  # вычлиняем 81 и затем 8.\n",
    "fourth_digit = number % 10  # вычлиняем последнюю цифру.\n",
    "print(\"Цифра в позиции тысяч равна\", first_digit)\n",
    "print(\"Цифра в позиции сотен равна\", second_digit)\n",
    "print(\"Цифра в позиции десятков равна\", third_digit)\n",
    "print(\"Цифра в позиции единиц равна\", fourth_digit)\n"
   ]
  },
  {
   "cell_type": "code",
   "execution_count": null,
   "id": "cd8664ed-919e-411b-9d54-dfbbe21a5bec",
   "metadata": {},
   "outputs": [],
   "source": [
    "№2 Алгоритм получения цифр n-значного числа на примере пятизначного числа"
   ]
  },
  {
   "cell_type": "code",
   "execution_count": null,
   "id": "6f5aa66d-4a05-48c3-b197-220219ad5d7c",
   "metadata": {},
   "outputs": [],
   "source": [
    "number = int(input())  # 32812\n",
    "first_digit = number // 10000 # вычлиняем первую цифру\n",
    "second_digit = (number % 10000) // 1000 # отделяем десятитысячную часть и вычленяем первую цифру из тысячной части\n",
    "third_digit = (number % 1000) // 100 # отделяем тысячную часть и вычленяем первую цифру из сотой части\n",
    "fourth_digit = (number % 100) // 10 # отделяем сотую часть и вычленяем первую цифру из оставшихся десятков\n",
    "fifth_digit = number % 10 # с помощью остатка от деления получаем последнюю цифру\n",
    "print(\"Цифра в позиции десятков тысяч равна\", first_digit)\n",
    "print(\"Цифра в позиции тысяч равна\", second_digit)\n",
    "print(\"Цифра в позиции сотен равна\", third_digit)\n",
    "print(\"Цифра в позиции десятков равна\", fourth_digit)\n",
    "print(\"Цифра в позиции единиц равна\", fifth_digit)"
   ]
  },
  {
   "cell_type": "code",
   "execution_count": null,
   "id": "e5895aaa-1976-4dff-b446-5895e3259387",
   "metadata": {},
   "outputs": [],
   "source": [
    "№3 Напишите программу, которая проверяет, что для заданного четырехзначного числа выполняется следующее соотношение:\n",
    "сумма первой и последней цифр равна разности второй и третьей цифр."
   ]
  },
  {
   "cell_type": "code",
   "execution_count": null,
   "id": "fdad2c7f-c4c4-459a-9fb5-bd3594cfde36",
   "metadata": {},
   "outputs": [],
   "source": [
    "number = int(input())\n",
    "first_digit = number // 1000  # вычлиняем первую цифру\n",
    "last_digit = number % 10  # избавляемся от всего, кроме единиц\n",
    "second_digit = (number % 1000) // 100  # избавляемся от тысячной части, вычленяем сотые\n",
    "third_digit = (number % 100) // 10  # избавляемся от сотой части, вычленяем десятые\n",
    "sum_1_4 = first_digit + last_digit\n",
    "difference_2_3 = second_digit - third_digit\n",
    "if sum_1_4 == difference_2_3:  # проверка условий\n",
    "    print(\"ДА\")\n",
    "else:\n",
    "    print(\"НЕТ\")\n"
   ]
  },
  {
   "cell_type": "code",
   "execution_count": null,
   "id": "eb2eb33e-13f7-4853-89b6-3f46a05f710a",
   "metadata": {},
   "outputs": [],
   "source": [
    "№4 Напишите программу, которая определяет, являются ли три заданных числа (в указанном порядке) последовательными членами арифметической прогрессии."
   ]
  },
  {
   "cell_type": "code",
   "execution_count": null,
   "id": "fa3848ea-2796-44e0-8f20-931105a13c6a",
   "metadata": {},
   "outputs": [],
   "source": [
    "num1 = int(input())\n",
    "num2 = int(input())\n",
    "num3 = int(input())\n",
    "if num3 - num2 == num2 - num1: #d значение, на которое возрастает последующий член прогрессии и равен разности следующего и предыдущего\n",
    "    print(\"YES\")\n",
    "else:\n",
    "    print(\"NO\")\n"
   ]
  },
  {
   "cell_type": "code",
   "execution_count": null,
   "id": "16d803cd-73ac-4143-a0db-f588ec9f8d96",
   "metadata": {},
   "outputs": [],
   "source": [
    "№5 Даны две различные клетки шахматной доски. Напишите программу, которая определяет, может ли король попасть с первой клетки на вторую одним ходом. Программа получает на вход четыре числа от 1 до 8\n",
    "каждое, задающие номер столбца и номер строки сначала для первой клетки, потом для второй клетки. Программа должна вывести «YES» (без кавычек), если из первой клетки ходом короля можно попасть во вторую, или «NO» (без кавычек) в противном случае."
   ]
  },
  {
   "cell_type": "code",
   "execution_count": null,
   "id": "46f9db03-c8c2-4324-bb86-f361c2dbbcb8",
   "metadata": {},
   "outputs": [],
   "source": [
    "x1 = int(input())\n",
    "y1 = int(input())\n",
    "x2 = int(input())\n",
    "y2 = int(input())\n",
    "if (\n",
    "    ((x1 == x2) and ((y1 - y2 == 1) or (y2 - y1 == 1))) #для случая, если столбцы одинаковые\n",
    "    or (y1 == y2 and ((x1 - x2 == 1) or (x2 - x1 == 1))) #для случая, еали строки одинаковые\n",
    "    or (((x1 - x2 == 1) or (x2 - x1 == 1)) and ((y1 - y2 == 1) or (y2 - y1 == 1))) # для остальных случаев \n",
    "):\n",
    "    print(\"YES\")\n",
    "else:\n",
    "    print(\"NO\")\n",
    "\n",
    "#Можно было решить более кратко, записав разности в диапозон от -1 и до 1, который позволяет включить все случаи. Например (-1 <= x1 - x2 <= 1) and (-1 <= y1 - y2 <= 1)"
   ]
  },
  {
   "cell_type": "code",
   "execution_count": null,
   "id": "eb72a9ac-38d9-4a1f-9266-891fc8238cd3",
   "metadata": {},
   "outputs": [],
   "source": [
    "№6\n",
    "На колесе рулетки карманы пронумерованы от 0 до 36. \n",
    "Ниже приведены цвета карманов: \n",
    "карман 0 – зеленый; \n",
    "для карманов с 1 по 10 карманы с нечётным номером имеют красный цвет, карманы с чётным номером – черный; \n",
    "для карманов с 11 по 18 карманы с нечётным номером имеют черный цвет, карманы с чётным номером – красный;\n",
    "для карманов с 19 по 28 карманы с нечётным номером имеют красный цвет, карманы с чётным номером – черный; \n",
    "для карманов с 29 по 36 карманы с нечётным номером имеют черный цвет, карманы с чётным номером – красный."
   ]
  },
  {
   "cell_type": "code",
   "execution_count": null,
   "id": "2e53e4f5-7e5a-416e-a853-4d88d19db31b",
   "metadata": {},
   "outputs": [],
   "source": [
    "n = int(input()) #вариант 1 \n",
    "if n == 0:\n",
    "    print(\"зеленый\")\n",
    "elif n % 2 != 0:\n",
    "    if (1 <= n <= 10) or (19 <= n <= 28):\n",
    "        print(\"красный\")\n",
    "    elif (11 <= n <= 18) or (29 <= n <= 36):\n",
    "        print(\"черный\")\n",
    "    else:\n",
    "        print(\"ошибка ввода\")\n",
    "elif n % 2 == 0:\n",
    "    if (1 <= n <= 10) or (19 <= n <= 28):\n",
    "        print(\"черный\")\n",
    "    elif (11 <= n <= 18) or (29 <= n <= 36):\n",
    "        print(\"красный\")\n",
    "    else:\n",
    "        print(\"ошибка ввода\")\n",
    "else:\n",
    "    print(\"ошибка ввода\")\n",
    "\n",
    "\n",
    "n = int(input()) #вариант 2\n",
    "if n == 0:\n",
    "    print(\"зеленый\")\n",
    "elif n % 2 != 0 and 0 < n <= 36:\n",
    "    if (1 <= n <= 10) or (19 <= n <= 28):\n",
    "        print(\"красный\")\n",
    "    elif (11 <= n <= 18) or (29 <= n <= 36):\n",
    "        print(\"черный\")\n",
    "elif n % 2 == 0 and 0 < n <= 36:\n",
    "    if (1 <= n <= 10) or (19 <= n <= 28):\n",
    "        print(\"черный\")\n",
    "    elif (11 <= n <= 18) or (29 <= n <= 36):\n",
    "        print(\"красный\")\n",
    "else:\n",
    "    print(\"ошибка ввода\")\n",
    "\n",
    "n = int(input()) #вариант 3\n",
    "if n == 0:\n",
    "    print(\"зеленый\")\n",
    "elif 0 < n <= 36:\n",
    "    if n % 2 != 0:\n",
    "        if (1 <= n <= 10) or (19 <= n <= 28):\n",
    "            print(\"красный\")\n",
    "        else:\n",
    "            print(\"черный\")\n",
    "    if n % 2 == 0:\n",
    "        if (1 <= n <= 10) or (19 <= n <= 28):\n",
    "            print(\"черный\")\n",
    "        else:\n",
    "            print(\"красный\")\n",
    "else:\n",
    "    print(\"ошибка ввода\")\n"
   ]
  },
  {
   "cell_type": "code",
   "execution_count": null,
   "id": "ccb33d4d-4e45-49c7-a86e-0b5862acf692",
   "metadata": {},
   "outputs": [],
   "source": [
    "№7 На числовой прямой даны два отрезка: Напишите программу, которая находит их пересечение.\n",
    "Пересечением двух отрезков может быть: отрезок, точка, пустое множество;"
   ]
  },
  {
   "cell_type": "code",
   "execution_count": null,
   "id": "92a62e09-bba2-4b3c-a87d-89dfb77a5268",
   "metadata": {},
   "outputs": [],
   "source": [
    "a1 = int(input())\n",
    "b1 = int(input())\n",
    "a2 = int(input())\n",
    "b2 = int(input())\n",
    "if b2 > b1:\n",
    "    if a1 < a2 and b1 < a2:\n",
    "        print(\"пустое множество\")\n",
    "    elif a2 < b1 and a1 < a2:\n",
    "        print(a2, b1)\n",
    "    elif b1 == a2 and a1 < a2:\n",
    "        print(b1)\n",
    "    elif a1 == a2:\n",
    "        print(a1, b1)\n",
    "    elif a2 < a1:\n",
    "        print(a1, b1)\n",
    "elif b1 > b2:\n",
    "    if a2 < a1 and b2 < a1:\n",
    "        print(\"пустое множество\")\n",
    "    elif a1 < b2 and a2 < a1:\n",
    "        print(a1, b2)\n",
    "    elif b2 == a1 and a2 < a1:\n",
    "        print(b2)\n",
    "    elif a2 == a1:\n",
    "        print(a2, b2)\n",
    "    elif a1 < a2:\n",
    "        print(a2, b2)\n",
    "elif b1 == b2:\n",
    "    if a2 < a1:\n",
    "        print(a1, b1)\n",
    "    elif a2 > a1:\n",
    "        print(a2, b2)\n",
    "    else:\n",
    "        print(a1, b1)\n",
    "elif (a1 < b1 and a1 == a2) and b1 == b2:\n",
    "    print(a1, b1)\n",
    "#громоздкое решение"
   ]
  },
  {
   "cell_type": "code",
   "execution_count": null,
   "id": "2851e536-850d-456e-b387-86844a0529e6",
   "metadata": {},
   "outputs": [],
   "source": [
    "№8 Даны две различные клетки шахматной доски. \n",
    "Напишите программу, которая определяет, может ли слон попасть с первой клетки на вторую одним ходом. \n",
    "Программа получает на вход четыре числа от 1 до 8 каждое, задающие номер столбца и номер строки сначала для первой клетки, потом для второй клетки. \n",
    "Программа должна вывести «YES», если из первой клетки ходом слона можно попасть во вторую, или «NO» в противном случае."
   ]
  },
  {
   "cell_type": "code",
   "execution_count": null,
   "id": "961c289a-5cc0-40d8-bc7b-6a69e28b54f4",
   "metadata": {},
   "outputs": [],
   "source": [
    "x1 = int(input())\n",
    "y1 = int(input())\n",
    "x2 = int(input())\n",
    "y2 = int(input())\n",
    "if x1 == x2 or y1 == y2:#ход невозможен, если строки или столбцы одинаковые\n",
    "    print(\"NO\")\n",
    "elif (x2 + y2 == x1 + y1) or (x1 - x2 == y1 - y2): \n",
    "    print(\"YES\")\n",
    "else:\n",
    "    print(\"NO\")\n",
    "# перваи диагональ - идёт на убывание, суммые координат \n",
    "# одинаковые на каждой клетке. Вторая диагональ идёт на увеличение, разности x-ов и y-ов одинаковые.\n",
    "                                                    "
   ]
  },
  {
   "cell_type": "code",
   "execution_count": null,
   "id": "1b36857a-8680-4306-b8b7-6c42e91fb236",
   "metadata": {},
   "outputs": [],
   "source": [
    "№9 Ход ферзя"
   ]
  },
  {
   "cell_type": "code",
   "execution_count": null,
   "id": "ecb9ff9a-c159-4ef2-ae60-6865f790aa4a",
   "metadata": {},
   "outputs": [],
   "source": [
    "x1 = int(input())\n",
    "y1 = int(input())\n",
    "x2 = int(input())\n",
    "y2 = int(input())\n",
    "if (\n",
    "    (x2 + y2 == x1 + y1)\n",
    "    or (x1 - x2 == y1 - y2)\n",
    "    or x1 == x2\n",
    "    or y1 == y2\n",
    "    or (\n",
    "        (\n",
    "            ((x1 == x2) and ((y1 - y2 == 1) or (y2 - y1 == 1)))\n",
    "            or (y1 == y2 and ((x1 - x2 == 1) or (x2 - x1 == 1)))\n",
    "            or (\n",
    "                ((x1 - x2 == 1) or (x2 - x1 == 1))\n",
    "                and ((y1 - y2 == 1) or (y2 - y1 == 1))\n",
    "            )\n",
    "        )\n",
    "    )\n",
    "):\n",
    "    print(\"YES\")\n",
    "else:\n",
    "    print(\"NO\")\n",
    "#Объединяем две фигуры в одну = ладья + слон"
   ]
  },
  {
   "cell_type": "code",
   "execution_count": null,
   "id": "56a38721-3513-4f6f-910a-8a6c2c5689d9",
   "metadata": {},
   "outputs": [],
   "source": [
    "№10 \n",
    " На вход программе подаётся число n – количество собачьих лет. \n",
    "Напишите программу, которая вычисляет возраст собаки в человеческих годах по следующему алгоритму:\n",
    "в течение первых двух лет собачий год равен 10.5 человеческим годам, после этого каждый год собаки \n",
    "равен 4 человеческим годам."
   ]
  },
  {
   "cell_type": "code",
   "execution_count": null,
   "id": "2ba5088d-a0e6-4216-bc6d-032ad579004a",
   "metadata": {},
   "outputs": [],
   "source": [
    "dog_age = int(input())\n",
    "human_age = 0\n",
    "if dog_age > 2:\n",
    "    human_age = 21 + ((dog_age - 2) * 4) #dog_age - 2 (количество лет без первых двух лет жизни)\n",
    "else:\n",
    "    human_age = dog_age * 10.5\n",
    "print(human_age)\n"
   ]
  },
  {
   "cell_type": "code",
   "execution_count": null,
   "id": "262c7a99-61c8-48ad-b261-306ac8acc96d",
   "metadata": {},
   "outputs": [],
   "source": [
    "№11 \n",
    "Назовём число интересным, если в нём разность максимальной\n",
    "и минимальной цифры равняется средней по величине цифре. \n",
    "Напишите программу, которая определяет, интересное число или нет.\n",
    "Если число интересное, следует вывести текст «Число интересное» (без кавычек),\n",
    "иначе – «Число неинтересное» (без кавычек)."
   ]
  },
  {
   "cell_type": "code",
   "execution_count": null,
   "id": "5b2d1824-4845-40e1-bda4-c49d8a6182fd",
   "metadata": {},
   "outputs": [],
   "source": [
    "number = int(input())\n",
    "fisrt_digit = number // 100\n",
    "second_digit = (number // 10) % 10\n",
    "third_digit = number % 10\n",
    "max_number = max(fisrt_digit, second_digit, third_digit)\n",
    "min_number = min(fisrt_digit, second_digit, third_digit)\n",
    "average_number = (fisrt_digit + second_digit + third_digit) - (max_number + min_number)\n",
    "if average_number == max_number - min_number:\n",
    "    print(\"Число интересное\")\n",
    "else:\n",
    "    print(\"Число неинтересное\")"
   ]
  },
  {
   "cell_type": "code",
   "execution_count": null,
   "id": "2125bc52-a7ef-439d-b23a-45350ab885c9",
   "metadata": {},
   "outputs": [],
   "source": [
    "№12 Даны названия трёх городов. \n",
    "Напишите программу, которая определяет самое короткое\n",
    "и самое длинное название города."
   ]
  },
  {
   "cell_type": "code",
   "execution_count": null,
   "id": "d0095987-ef0d-4fbd-83ca-61a39c9a654c",
   "metadata": {},
   "outputs": [],
   "source": [
    "#громоздкео и затем исправленное решение\n",
    "city_name1, city_name2, city_name3 = (\n",
    "    str(input()),\n",
    "    str(input()),\n",
    "    str(input()),\n",
    ")\n",
    "len1, len2, len3 = len(city_name1), len(city_name2), len(city_name3)\n",
    "max_len = max(len1, len2, len3)\n",
    "min_len = min(len1, len2, len3)\n",
    "# all_len = len1 + len2 + len3\n",
    "# if all_len - (max_len + min_len) == len3:\n",
    "#     if len1 > len2:\n",
    "#         print(city_name2)\n",
    "#         print(city_name1)\n",
    "#     else:\n",
    "#         print(city_name1)\n",
    "#         print(city_name2)\n",
    "# elif all_len - (max_len + min_len) == len2:\n",
    "#     if len1 > len3:\n",
    "#         print(city_name3)\n",
    "#         print(city_name1)\n",
    "#     else:\n",
    "#         print(city_name1)\n",
    "#         print(city_name3)\n",
    "# elif all_len - (max_len + min_len) == len1:\n",
    "#     if len2 > len3:\n",
    "#         print(city_name3)\n",
    "#         print(city_name2)\n",
    "#     else:\n",
    "#         print(city_name2)\n",
    "#         print(city_name3)\n",
    "\n",
    "if min_len == len1:\n",
    "    print(city_name1)\n",
    "elif min_len == len2:\n",
    "    print(city_name2)\n",
    "else:\n",
    "    print(city_name3)\n",
    "\n",
    "if max_len == len1:\n",
    "    print(city_name1)\n",
    "elif max_len == len2:\n",
    "    print(city_name2)\n",
    "else:\n",
    "    print(city_name3)\n"
   ]
  },
  {
   "cell_type": "code",
   "execution_count": null,
   "id": "14c374e0-5bb2-44f8-873a-5fe5c43391db",
   "metadata": {},
   "outputs": [],
   "source": [
    "№13 Вводятся 3 строки в случайном порядке. \n",
    "Напишите программу, которая выясняет,можно ли из длин этих \n",
    "строк построить арифметическую прогрессию."
   ]
  },
  {
   "cell_type": "code",
   "execution_count": null,
   "id": "a6c4e9df-cf5d-4e6b-805f-7a858b6e68c5",
   "metadata": {},
   "outputs": [],
   "source": [
    "line1, line2, line3 = (\n",
    "    str(input()),\n",
    "    str(input()),\n",
    "    str(input()),\n",
    ")\n",
    "num1 = len(line1)\n",
    "num2 = len(line2)\n",
    "num3 = len(line3)\n",
    "\n",
    "sum_num = num1 + num2 + num3\n",
    "max_num = max(num1, num2, num3)\n",
    "min_num = min(num1, num2, num3)\n",
    "mid_num = sum_num - (max_num + min_num)\n",
    "\n",
    "if max_num == min_num + 2 * (\n",
    "    max_num - mid_num\n",
    "):  # max_numb - mid_num == mid_num - min_num\n",
    "    print(\"YES\")\n",
    "else:\n",
    "    print(\"NO\")"
   ]
  },
  {
   "cell_type": "code",
   "execution_count": null,
   "id": "1018db60-e907-4918-aad2-e8aecf6d3923",
   "metadata": {},
   "outputs": [],
   "source": [
    "№14 Пробуем подключив модельу math, написать формулу для нахождения евклидового расстояния."
   ]
  },
  {
   "cell_type": "code",
   "execution_count": null,
   "id": "9d2d64a7-af01-4868-a373-c05227f78a26",
   "metadata": {},
   "outputs": [],
   "source": [
    "from math import sqrt, pow #квадратный корень из числа, возведение в степень\n",
    "\n",
    "x1, y1, x2, y2 = float(input()), float(input()), float(input()), float(input())\n",
    "p = sqrt(pow(x1 - x2, 2) + pow(y1 - y2, 2))\n",
    "print(p)\n"
   ]
  },
  {
   "cell_type": "code",
   "execution_count": null,
   "id": "d44f49d7-89dc-4728-80ce-2a37b73fe5e0",
   "metadata": {},
   "outputs": [],
   "source": [
    "№15 Вспоминаем, как находить корни квадратного уравнения."
   ]
  },
  {
   "cell_type": "code",
   "execution_count": null,
   "id": "9415589f-319e-49ea-b5bb-57a0c8619db0",
   "metadata": {},
   "outputs": [],
   "source": [
    "from math import *\n",
    "\n",
    "a, b, c = float(input()), float(input()), float(input())\n",
    "discr = pow(b, 2) - (4 * a * c)\n",
    "if discr > 0:\n",
    "    x1 = (-b - sqrt(discr)) / (2 * a)\n",
    "    x2 = (-b + sqrt(discr)) / (2 * a)\n",
    "    print(min(x1, x2))\n",
    "    print(max(x1, x2))\n",
    "elif discr == 0:\n",
    "    x = -b / (2 * a)\n",
    "    print(x)\n",
    "else:\n",
    "    print(\"Нет корней\")\n"
   ]
  },
  {
   "cell_type": "code",
   "execution_count": null,
   "id": "ebabd8b8-3281-4555-9b5e-eea953bc75e6",
   "metadata": {},
   "outputs": [],
   "source": [
    "№16 На вход программе подаётся натуральное число n. \n",
    "Напишите программу, которая для каждого из чисел от \n",
    "0 до n (включительно) выводит текст в следующем формате:\n",
    "Квадрат числа <текущее число> равен <квадрат текущего числа>"
   ]
  },
  {
   "cell_type": "code",
   "execution_count": null,
   "id": "2dba9531-a5ff-4499-85f4-46ad48dafed3",
   "metadata": {},
   "outputs": [],
   "source": [
    "n_times = int(input())\n",
    "for i in range(n_times + 1):\n",
    "    print(\"Квадрат числа\", i, \"равен\", i**2)\n"
   ]
  },
  {
   "cell_type": "code",
   "execution_count": null,
   "id": "3c75b851-37fd-44a3-b343-bd3788eff7a1",
   "metadata": {},
   "outputs": [],
   "source": [
    "№17 Даны два целых числа m и n. Напишите программу, которая выводит все целые числа от m до n\n",
    "включительно в порядке возрастания, если m < n, или в порядке убывания в противном случае."
   ]
  },
  {
   "cell_type": "code",
   "execution_count": null,
   "id": "27452def-3e16-4995-9b3d-5618c017cd55",
   "metadata": {},
   "outputs": [],
   "source": [
    "m, n = int(input()), int(input())\n",
    "if m > n:\n",
    "    for i in range(m, n - 1, -1):\n",
    "        print(i)\n",
    "elif m < n:\n",
    "    for i in range(m, n + 1):\n",
    "        print(i)\n",
    "else:\n",
    "    print(m)"
   ]
  },
  {
   "cell_type": "code",
   "execution_count": null,
   "id": "ad4742e5-0097-4167-9c81-0b2c5abc4292",
   "metadata": {},
   "outputs": [],
   "source": [
    "№18 Даны два целых числа m и n(m>n). \n",
    "Напишите программу, которая выводит все нечётные целые числа от m до n (включительно) в порядке убывания."
   ]
  },
  {
   "cell_type": "code",
   "execution_count": null,
   "id": "de88a825-e9bb-46c8-a940-1c5d414c9235",
   "metadata": {},
   "outputs": [],
   "source": [
    "m, n = int(input()), int(input())\n",
    "#for i in range(m, n - 1, -1):\n",
    "#    if i % 2 != 0:\n",
    "#        print(i)\n",
    "#Интуитивно понимал, что нужно использовать операторы деления, но не додумался как именно, пришлось подсмотреть.\n",
    "m = ((m - 1) // 2) * 2 + 1\n",
    "for i in range(m, n - 1, -2):\n",
    "        print(i)"
   ]
  },
  {
   "cell_type": "code",
   "execution_count": null,
   "id": "6d11cfc5-1576-4f4c-9acd-d175c00fefe7",
   "metadata": {},
   "outputs": [],
   "source": [
    "№19 Даны два натуральных числа \n",
    "m и n (m≤n). Напишите программу, которая выводит все целые числа от m до n(включительно), \n",
    "удовлетворяющие хотя бы одному из условий: \n",
    "число кратно 17, \n",
    "число оканчивается на 9,\n",
    "число кратно 3 и 5 одновременно.\n"
   ]
  },
  {
   "cell_type": "code",
   "execution_count": null,
   "id": "70b4afe9-83e6-4a2d-b808-d253c6077070",
   "metadata": {},
   "outputs": [],
   "source": [
    "m, n = int(input()), int(input())\n",
    "for i in range(m, n + 1):\n",
    "    # if i % 17 == 0 or i % 10 == 9 or (i % 3 == 0 and i % 5 == 0):\n",
    "    #     print(i)\n",
    "    # Если кратно 3 и 5, то кратно 15. Подсмотрел, как много я не знаю.\n",
    "    if i % 17 == 0 or i % 10 == 9 or i % 15 == 0:\n",
    "        print(i)\n"
   ]
  },
  {
   "cell_type": "code",
   "execution_count": null,
   "id": "257cd366-2d3a-457f-9d85-7c2bf61c6b48",
   "metadata": {},
   "outputs": [],
   "source": [
    "№20 ано натуральное число n. Напишите программу, которая выводит таблицу умножения на n (от \n",
    "1 до 10 включительно)."
   ]
  },
  {
   "cell_type": "code",
   "execution_count": null,
   "id": "b3e67b35-58ce-4bab-b1a5-efc0600a86f2",
   "metadata": {},
   "outputs": [],
   "source": [
    "n = int(input())\n",
    "for i in range(1, 11):\n",
    "    print(n, \"x\", i, \"=\", n * i)\n"
   ]
  },
  {
   "cell_type": "code",
   "execution_count": null,
   "id": "de85f9c7-c34e-493d-bbbf-8888c021ae3a",
   "metadata": {},
   "outputs": [],
   "source": [
    "№21 На вход программе подаются два целых числа a и b (a≤b).\n",
    "Напишите программу, которая подсчитывает количество чисел в диапазоне от a до \n",
    "b (включительно), куб которых оканчивается на 4 или 9."
   ]
  },
  {
   "cell_type": "code",
   "execution_count": null,
   "id": "0a782a40-22f2-4599-95f9-4f1bac18f632",
   "metadata": {},
   "outputs": [],
   "source": [
    "a, b = int(input()), int(input())\n",
    "total = 0\n",
    "for i in range(a, b + 1):\n",
    "    if i**3 % 10 == 4 or i**3 % 10 == 9:\n",
    "        total += 1\n",
    "print(total)"
   ]
  },
  {
   "cell_type": "code",
   "execution_count": null,
   "id": "c7c65cd9-2d36-44ad-b676-94b27f96f4c5",
   "metadata": {},
   "outputs": [],
   "source": [
    "№22 На вход программе подаются натуральное число n, а затем n целых чисел, \n",
    "каждое на отдельной строке. Напишите программу, которая подсчитывает сумму введённых чисел \n",
    "(не включая само число n). "
   ]
  },
  {
   "cell_type": "code",
   "execution_count": null,
   "id": "ddf02672-4c34-4f28-be0d-40da8d743342",
   "metadata": {},
   "outputs": [],
   "source": [
    "n = int(input())\n",
    "sum = 0\n",
    "for i in range(1, n + 1):\n",
    "    n = int(input())\n",
    "    sum += n\n",
    "print(sum)"
   ]
  },
  {
   "cell_type": "code",
   "execution_count": null,
   "id": "b6b29349-74c3-4355-96f0-d500f21e7043",
   "metadata": {},
   "outputs": [],
   "source": [
    "№23 Асимптотическое приближение"
   ]
  },
  {
   "cell_type": "code",
   "execution_count": null,
   "id": "1089440f-b5ba-496c-b8ff-2f983f1bfaea",
   "metadata": {},
   "outputs": [],
   "source": [
    "from math import log\n",
    "\n",
    "n = int(input())\n",
    "sum = 0\n",
    "for i in range(1, n + 1):\n",
    "    sum += 1 / i\n",
    "asymp = sum - log(n)\n",
    "print(asymp)\n"
   ]
  },
  {
   "cell_type": "code",
   "execution_count": null,
   "id": "244f41be-5ac9-4494-8705-251c4e9ec808",
   "metadata": {},
   "outputs": [],
   "source": [
    "№24 На вход программе подаётся натуральное число n. \n",
    "Напишите программу, которая подсчитывает сумму тех чисел от 1 до \n",
    "n (включительно), квадрат которых оканчивается на 2,5 или 8."
   ]
  },
  {
   "cell_type": "code",
   "execution_count": null,
   "id": "6c4bf724-4ecd-4094-b681-b28a6d433baa",
   "metadata": {},
   "outputs": [],
   "source": [
    "n = int(input())\n",
    "sum = 0\n",
    "for i in range(1, n + 1):\n",
    "    if i**2 % 10 == 2 or i**2 % 10 == 5 or i**2 % 10 == 8:\n",
    "        sum += i\n",
    "print(sum)\n"
   ]
  },
  {
   "cell_type": "code",
   "execution_count": null,
   "id": "d3a7ac47-f63d-477b-a436-c235356adb98",
   "metadata": {},
   "outputs": [],
   "source": [
    "№25 Напишите программу, которая считывает 10 чисел и выводит произведение отличных от нуля чисел."
   ]
  },
  {
   "cell_type": "code",
   "execution_count": null,
   "id": "bfd200da-d90d-47ea-9825-4366947ed3bb",
   "metadata": {},
   "outputs": [],
   "source": [
    "product_numbers = 1\n",
    "for i in range(1, 11):\n",
    "    n = int(input())\n",
    "    if n != 0:\n",
    "        product_numbers *= n\n",
    "print(product_numbers)\n"
   ]
  },
  {
   "cell_type": "code",
   "execution_count": null,
   "id": "23b292f9-f079-476b-9772-394026da1cfd",
   "metadata": {},
   "outputs": [],
   "source": [
    "№26 На вход программе подаётся натуральное число n. \n",
    "Напишите программу вычисления знакочередующейся суммы"
   ]
  },
  {
   "cell_type": "code",
   "execution_count": null,
   "id": "c589b277-e129-468c-9d7c-0b6e14fee868",
   "metadata": {},
   "outputs": [],
   "source": [
    "n = int(input())\n",
    "total = 0\n",
    "for i in range(1, n + 1):\n",
    "    total += ((-1) ** (i + 1)) * i\n",
    "print(total)\n",
    "# Мне нужно было найти законочередующую сумму, я совершил две ошибки:\n",
    "# использовал название функции для названия переменной (sum)\n",
    "# и не обозначил скобками сложение числа во время возведения в степень. \n",
    "# то есть вместо возведение в степень i + 1, я возводил просто в i.\n"
   ]
  },
  {
   "cell_type": "code",
   "execution_count": null,
   "id": "2aab5334-d52e-45f3-b320-f585dfdefa0e",
   "metadata": {},
   "outputs": [],
   "source": [
    "№27 На вход программе подаются натуральное число n(n≥2), а затем n\n",
    "различных натуральных чисел последовательности, каждое на отдельной строке. \n",
    "Напишите программу, которая выводит наибольшее и второе наибольшее число последовательности."
   ]
  },
  {
   "cell_type": "code",
   "execution_count": null,
   "id": "6c513794-1cce-4564-9867-0b3ca9949e10",
   "metadata": {},
   "outputs": [],
   "source": [
    "n = int(input())\n",
    "max_numb1 = 0\n",
    "max_numb2 = 0\n",
    "for i in range(1, n + 1):\n",
    "    n = int(input())\n",
    "    if n > max_numb1:\n",
    "        max_numb2 = max_numb1\n",
    "        max_numb1 = n\n",
    "    elif n > max_numb2:\n",
    "        max_numb2 = n\n",
    "print(max_numb1)\n",
    "print(max_numb2)\n"
   ]
  },
  {
   "cell_type": "code",
   "execution_count": null,
   "id": "b383a710-4a4e-4b03-a57c-70eacdeca775",
   "metadata": {},
   "outputs": [],
   "source": [
    "№28 Напишите программу, которая считывает последовательность из 10 целых чисел и определяет, \n",
    "является ли каждое из них чётным или нет."
   ]
  },
  {
   "cell_type": "code",
   "execution_count": null,
   "id": "1dba7ac3-7e80-4bd4-8f0b-09dbc2495fe8",
   "metadata": {},
   "outputs": [],
   "source": [
    "# Сырое решение:\n",
    "# counter_even = 0 <- счётчик для чётного случая\n",
    "# counter_odd = 0 <- счётчик для нечётного случая\n",
    "# for i in range(1, 11):  <- задаём диапозон\n",
    "#     n = int(input()) <- пользователь вводит числа\n",
    "#     if n % 2 != 0: <- если число нечётное, то увеличиваем сот-щий счётчик\n",
    "#         counter_odd += 1\n",
    "#     elif n % 2 == 0: <- если число чётное, то увеличиваем сот-щий счётчик\n",
    "#         counter_even += 1\n",
    "\n",
    "# if counter_even > 0 and counter_odd == 0: <- делаем проверку с помощью счётчиков количества\n",
    "#     print(\"YES\")\n",
    "# else:\n",
    "#     print(\"NO\")\n",
    "flag = True\n",
    "for i in range(10):\n",
    "    n = int(input())\n",
    "    if n % 2 != 0:\n",
    "        flag = False\n",
    "\n",
    "if flag:\n",
    "    print(\"YES\")\n",
    "else:\n",
    "    print(\"NO\")\n"
   ]
  },
  {
   "cell_type": "code",
   "execution_count": null,
   "id": "7e22094f-7352-49f9-b8e2-f3c05a844230",
   "metadata": {},
   "outputs": [],
   "source": [
    "№29 Последовательность Фибоначчи.\n",
    "Напишите программу, которая считывает натуральное число nи выводит первые n чисел последовательности Фибоначчи.\n",
    " Формат входных данных:\n",
    "На вход программе подается одно число n (n≤100) – количество членов последовательности."
   ]
  },
  {
   "cell_type": "code",
   "execution_count": null,
   "id": "c91c724e-3bdb-46be-9456-934c020eca84",
   "metadata": {},
   "outputs": [],
   "source": [
    "previous = 1\n",
    "current = 1\n",
    "next_number = 0\n",
    "n = int(input())\n",
    "for i in range(1, n + 1):\n",
    "    print(previous, end=\" \") \n",
    "    next_number = current + previous #следующее число равняется сумме текущего числа и предыдущего\n",
    "     previous, current = current, next_number #переопределяя переменные мы как бы идём дальше перебирать числа \n",
    "    #                                         пред, тек, след\n",
    "    #                                               пред тек  след\n",
    "    #                                                    пред  тек след\n"
   ]
  },
  {
   "cell_type": "code",
   "execution_count": null,
   "id": "a85bd83c-7eb7-44ca-bb84-4c50f9614f21",
   "metadata": {},
   "outputs": [],
   "source": [
    "№30 На вход программе подаётся последовательность слов, каждое слово на отдельной строке. \n",
    "Концом последовательности является слово «КОНЕЦ» или «конец» (без кавычек). \n",
    "При этом сами слова «КОНЕЦ» и «конец» не входят в последовательность, лишь символизируя её окончание. \n",
    "Напишите программу, которая выводит члены данной последовательности."
   ]
  },
  {
   "cell_type": "code",
   "execution_count": null,
   "id": "bac2f882-ddd6-42c9-a340-4688d1037cf4",
   "metadata": {},
   "outputs": [],
   "source": [
    "user_word = input()\n",
    "while user_word != \"КОНЕЦ\" and user_word != \"конец\":\n",
    "    print(user_word)\n",
    "    user_word = input()\n",
    "    # Перепутал и ставил or, выявлялась ошибка, видимо из-за того, \n",
    "    # что оператор находит хотя бы одно истинное значение. \n",
    "    # То есть если \"КОНЕЦ\"  не равен \"конец\",\n",
    "    # то условие положительное и цикл может продолжаться дальше, \n",
    "    # поэтому нужен оператор and, \n",
    "    # чтобы была остановка от сробатывания хотя бы одного ложного значения. \n",
    "    # Вроде бы понял, а вроде бы сомневаюсь. "
   ]
  },
  {
   "cell_type": "code",
   "execution_count": null,
   "id": "216bbc0d-f799-4bd6-9fd8-a350ac1186ec",
   "metadata": {},
   "outputs": [],
   "source": [
    "№31 На вход программе подаётся последовательность слов, каждое слово на отдельной строке. \n",
    "Концом последовательности является одно из трёх слов: «стоп», «хватит», «достаточно» (без кавычек). \n",
    "Сами эти слова в последовательность не входят, лишь символизируя её окончание. \n",
    "Напишите программу, которая выводит общее количество членов данной последовательности."
   ]
  },
  {
   "cell_type": "code",
   "execution_count": null,
   "id": "cdbb2870-dba1-49b4-a07f-f68e4b706fb2",
   "metadata": {},
   "outputs": [],
   "source": [
    "user_word = input()\n",
    "counter = 0\n",
    "while user_word != \"стоп\" and user_word != \"хватит\" and user_word != \"достаточно\":\n",
    "    user_word = input()\n",
    "    counter += 1\n",
    "print(counter)"
   ]
  }
 ],
 "metadata": {
  "kernelspec": {
   "display_name": "Python 3 (ipykernel)",
   "language": "python",
   "name": "python3"
  },
  "language_info": {
   "codemirror_mode": {
    "name": "ipython",
    "version": 3
   },
   "file_extension": ".py",
   "mimetype": "text/x-python",
   "name": "python",
   "nbconvert_exporter": "python",
   "pygments_lexer": "ipython3",
   "version": "3.11.11"
  }
 },
 "nbformat": 4,
 "nbformat_minor": 5
}
