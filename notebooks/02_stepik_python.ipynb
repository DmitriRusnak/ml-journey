{
 "cells": [
  {
   "cell_type": "code",
   "execution_count": null,
   "id": "36464086-6285-48b3-b339-39e8f62a535d",
   "metadata": {},
   "outputs": [],
   "source": [
    "№1 Алгоритм получения цифр n-значного числа на примере четырёхзначного числа"
   ]
  },
  {
   "cell_type": "code",
   "execution_count": null,
   "id": "be764c16-5e5a-41de-91a2-60c22f089534",
   "metadata": {},
   "outputs": [],
   "source": [
    "number = int(input())  # 3281\n",
    "first_digit = (\n",
    "    number // 1000\n",
    ")  # вычлиняем первую цифру, берём 1000, т.к по условию число четырёхзначное\n",
    "second_digit = (\n",
    "    number % 1000\n",
    ") // 100  # вычлиняем 281 и, производя деления от целого на 100, забираем 2\n",
    "third_digit = (number % 100) // 10  # вычлиняем 81 и затем 8.\n",
    "fourth_digit = number % 10  # вычлиняем последнюю цифру.\n",
    "print(\"Цифра в позиции тысяч равна\", first_digit)\n",
    "print(\"Цифра в позиции сотен равна\", second_digit)\n",
    "print(\"Цифра в позиции десятков равна\", third_digit)\n",
    "print(\"Цифра в позиции единиц равна\", fourth_digit)\n"
   ]
  },
  {
   "cell_type": "code",
   "execution_count": null,
   "id": "cd8664ed-919e-411b-9d54-dfbbe21a5bec",
   "metadata": {},
   "outputs": [],
   "source": [
    "№2 Алгоритм получения цифр n-значного числа на примере пятизначного числа"
   ]
  },
  {
   "cell_type": "code",
   "execution_count": null,
   "id": "6f5aa66d-4a05-48c3-b197-220219ad5d7c",
   "metadata": {},
   "outputs": [],
   "source": [
    "number = int(input())  # 32812\n",
    "first_digit = number // 10000 # вычлиняем первую цифру\n",
    "second_digit = (number % 10000) // 1000 # отделяем десятитысячную часть и вычленяем первую цифру из тысячной части\n",
    "third_digit = (number % 1000) // 100 # отделяем тысячную часть и вычленяем первую цифру из сотой части\n",
    "fourth_digit = (number % 100) // 10 # отделяем сотую часть и вычленяем первую цифру из оставшихся десятков\n",
    "fifth_digit = number % 10 # с помощью остатка от деления получаем последнюю цифру\n",
    "print(\"Цифра в позиции десятков тысяч равна\", first_digit)\n",
    "print(\"Цифра в позиции тысяч равна\", second_digit)\n",
    "print(\"Цифра в позиции сотен равна\", third_digit)\n",
    "print(\"Цифра в позиции десятков равна\", fourth_digit)\n",
    "print(\"Цифра в позиции единиц равна\", fifth_digit)"
   ]
  },
  {
   "cell_type": "code",
   "execution_count": null,
   "id": "e5895aaa-1976-4dff-b446-5895e3259387",
   "metadata": {},
   "outputs": [],
   "source": [
    "№3 Напишите программу, которая проверяет, что для заданного четырехзначного числа выполняется следующее соотношение:\n",
    "сумма первой и последней цифр равна разности второй и третьей цифр."
   ]
  },
  {
   "cell_type": "code",
   "execution_count": null,
   "id": "fdad2c7f-c4c4-459a-9fb5-bd3594cfde36",
   "metadata": {},
   "outputs": [],
   "source": [
    "number = int(input())\n",
    "first_digit = number // 1000  # вычлиняем первую цифру\n",
    "last_digit = number % 10  # избавляемся от всего, кроме единиц\n",
    "second_digit = (number % 1000) // 100  # избавляемся от тысячной части, вычленяем сотые\n",
    "third_digit = (number % 100) // 10  # избавляемся от сотой части, вычленяем десятые\n",
    "sum_1_4 = first_digit + last_digit\n",
    "difference_2_3 = second_digit - third_digit\n",
    "if sum_1_4 == difference_2_3:  # проверка условий\n",
    "    print(\"ДА\")\n",
    "else:\n",
    "    print(\"НЕТ\")\n"
   ]
  },
  {
   "cell_type": "code",
   "execution_count": null,
   "id": "eb2eb33e-13f7-4853-89b6-3f46a05f710a",
   "metadata": {},
   "outputs": [],
   "source": [
    "№4 Напишите программу, которая определяет, являются ли три заданных числа (в указанном порядке) последовательными членами арифметической прогрессии."
   ]
  },
  {
   "cell_type": "code",
   "execution_count": null,
   "id": "fa3848ea-2796-44e0-8f20-931105a13c6a",
   "metadata": {},
   "outputs": [],
   "source": [
    "num1 = int(input())\n",
    "num2 = int(input())\n",
    "num3 = int(input())\n",
    "if num3 - num2 == num2 - num1: #d значение, на которое возрастает последующий член прогрессии и равен разности следующего и предыдущего\n",
    "    print(\"YES\")\n",
    "else:\n",
    "    print(\"NO\")\n"
   ]
  },
  {
   "cell_type": "code",
   "execution_count": null,
   "id": "16d803cd-73ac-4143-a0db-f588ec9f8d96",
   "metadata": {},
   "outputs": [],
   "source": [
    "№5 Даны две различные клетки шахматной доски. Напишите программу, которая определяет, может ли король попасть с первой клетки на вторую одним ходом. Программа получает на вход четыре числа от 1 до 8\n",
    "каждое, задающие номер столбца и номер строки сначала для первой клетки, потом для второй клетки. Программа должна вывести «YES» (без кавычек), если из первой клетки ходом короля можно попасть во вторую, или «NO» (без кавычек) в противном случае."
   ]
  },
  {
   "cell_type": "code",
   "execution_count": null,
   "id": "46f9db03-c8c2-4324-bb86-f361c2dbbcb8",
   "metadata": {},
   "outputs": [],
   "source": [
    "x1 = int(input())\n",
    "y1 = int(input())\n",
    "x2 = int(input())\n",
    "y2 = int(input())\n",
    "if (\n",
    "    ((x1 == x2) and ((y1 - y2 == 1) or (y2 - y1 == 1))) #для случая, если столбцы одинаковые\n",
    "    or (y1 == y2 and ((x1 - x2 == 1) or (x2 - x1 == 1))) #для случая, еали строки одинаковые\n",
    "    or (((x1 - x2 == 1) or (x2 - x1 == 1)) and ((y1 - y2 == 1) or (y2 - y1 == 1))) # для остальных случаев \n",
    "):\n",
    "    print(\"YES\")\n",
    "else:\n",
    "    print(\"NO\")\n",
    "\n",
    "#Можно было решить более кратко, записав разности в диапозон от -1 и до 1, который позволяет включить все случаи. Например (-1 <= x1 - x2 <= 1) and (-1 <= y1 - y2 <= 1)"
   ]
  },
  {
   "cell_type": "code",
   "execution_count": null,
   "id": "eb72a9ac-38d9-4a1f-9266-891fc8238cd3",
   "metadata": {},
   "outputs": [],
   "source": [
    "№6\n",
    "На колесе рулетки карманы пронумерованы от 0 до 36. \n",
    "Ниже приведены цвета карманов: \n",
    "карман 0 – зеленый; \n",
    "для карманов с 1 по 10 карманы с нечётным номером имеют красный цвет, карманы с чётным номером – черный; \n",
    "для карманов с 11 по 18 карманы с нечётным номером имеют черный цвет, карманы с чётным номером – красный;\n",
    "для карманов с 19 по 28 карманы с нечётным номером имеют красный цвет, карманы с чётным номером – черный; \n",
    "для карманов с 29 по 36 карманы с нечётным номером имеют черный цвет, карманы с чётным номером – красный."
   ]
  },
  {
   "cell_type": "code",
   "execution_count": null,
   "id": "2e53e4f5-7e5a-416e-a853-4d88d19db31b",
   "metadata": {},
   "outputs": [],
   "source": [
    "n = int(input()) #вариант 1 \n",
    "if n == 0:\n",
    "    print(\"зеленый\")\n",
    "elif n % 2 != 0:\n",
    "    if (1 <= n <= 10) or (19 <= n <= 28):\n",
    "        print(\"красный\")\n",
    "    elif (11 <= n <= 18) or (29 <= n <= 36):\n",
    "        print(\"черный\")\n",
    "    else:\n",
    "        print(\"ошибка ввода\")\n",
    "elif n % 2 == 0:\n",
    "    if (1 <= n <= 10) or (19 <= n <= 28):\n",
    "        print(\"черный\")\n",
    "    elif (11 <= n <= 18) or (29 <= n <= 36):\n",
    "        print(\"красный\")\n",
    "    else:\n",
    "        print(\"ошибка ввода\")\n",
    "else:\n",
    "    print(\"ошибка ввода\")\n",
    "\n",
    "\n",
    "n = int(input()) #вариант 2\n",
    "if n == 0:\n",
    "    print(\"зеленый\")\n",
    "elif n % 2 != 0 and 0 < n <= 36:\n",
    "    if (1 <= n <= 10) or (19 <= n <= 28):\n",
    "        print(\"красный\")\n",
    "    elif (11 <= n <= 18) or (29 <= n <= 36):\n",
    "        print(\"черный\")\n",
    "elif n % 2 == 0 and 0 < n <= 36:\n",
    "    if (1 <= n <= 10) or (19 <= n <= 28):\n",
    "        print(\"черный\")\n",
    "    elif (11 <= n <= 18) or (29 <= n <= 36):\n",
    "        print(\"красный\")\n",
    "else:\n",
    "    print(\"ошибка ввода\")\n",
    "\n",
    "n = int(input()) #вариант 3\n",
    "if n == 0:\n",
    "    print(\"зеленый\")\n",
    "elif 0 < n <= 36:\n",
    "    if n % 2 != 0:\n",
    "        if (1 <= n <= 10) or (19 <= n <= 28):\n",
    "            print(\"красный\")\n",
    "        else:\n",
    "            print(\"черный\")\n",
    "    if n % 2 == 0:\n",
    "        if (1 <= n <= 10) or (19 <= n <= 28):\n",
    "            print(\"черный\")\n",
    "        else:\n",
    "            print(\"красный\")\n",
    "else:\n",
    "    print(\"ошибка ввода\")\n"
   ]
  },
  {
   "cell_type": "code",
   "execution_count": null,
   "id": "ccb33d4d-4e45-49c7-a86e-0b5862acf692",
   "metadata": {},
   "outputs": [],
   "source": [
    "№7 На числовой прямой даны два отрезка: Напишите программу, которая находит их пересечение.\n",
    "Пересечением двух отрезков может быть: отрезок, точка, пустое множество;"
   ]
  },
  {
   "cell_type": "code",
   "execution_count": null,
   "id": "92a62e09-bba2-4b3c-a87d-89dfb77a5268",
   "metadata": {},
   "outputs": [],
   "source": [
    "a1 = int(input())\n",
    "b1 = int(input())\n",
    "a2 = int(input())\n",
    "b2 = int(input())\n",
    "if b2 > b1:\n",
    "    if a1 < a2 and b1 < a2:\n",
    "        print(\"пустое множество\")\n",
    "    elif a2 < b1 and a1 < a2:\n",
    "        print(a2, b1)\n",
    "    elif b1 == a2 and a1 < a2:\n",
    "        print(b1)\n",
    "    elif a1 == a2:\n",
    "        print(a1, b1)\n",
    "    elif a2 < a1:\n",
    "        print(a1, b1)\n",
    "elif b1 > b2:\n",
    "    if a2 < a1 and b2 < a1:\n",
    "        print(\"пустое множество\")\n",
    "    elif a1 < b2 and a2 < a1:\n",
    "        print(a1, b2)\n",
    "    elif b2 == a1 and a2 < a1:\n",
    "        print(b2)\n",
    "    elif a2 == a1:\n",
    "        print(a2, b2)\n",
    "    elif a1 < a2:\n",
    "        print(a2, b2)\n",
    "elif b1 == b2:\n",
    "    if a2 < a1:\n",
    "        print(a1, b1)\n",
    "    elif a2 > a1:\n",
    "        print(a2, b2)\n",
    "    else:\n",
    "        print(a1, b1)\n",
    "elif (a1 < b1 and a1 == a2) and b1 == b2:\n",
    "    print(a1, b1)\n",
    "#громоздкое решение"
   ]
  },
  {
   "cell_type": "code",
   "execution_count": null,
   "id": "2851e536-850d-456e-b387-86844a0529e6",
   "metadata": {},
   "outputs": [],
   "source": [
    "№8 Даны две различные клетки шахматной доски. \n",
    "Напишите программу, которая определяет, может ли слон попасть с первой клетки на вторую одним ходом. \n",
    "Программа получает на вход четыре числа от 1 до 8 каждое, задающие номер столбца и номер строки сначала для первой клетки, потом для второй клетки. \n",
    "Программа должна вывести «YES», если из первой клетки ходом слона можно попасть во вторую, или «NO» в противном случае."
   ]
  },
  {
   "cell_type": "code",
   "execution_count": null,
   "id": "961c289a-5cc0-40d8-bc7b-6a69e28b54f4",
   "metadata": {},
   "outputs": [],
   "source": [
    "x1 = int(input())\n",
    "y1 = int(input())\n",
    "x2 = int(input())\n",
    "y2 = int(input())\n",
    "if x1 == x2 or y1 == y2:#ход невозможен, если строки или столбцы одинаковые\n",
    "    print(\"NO\")\n",
    "elif (x2 + y2 == x1 + y1) or (x1 - x2 == y1 - y2): \n",
    "    print(\"YES\")\n",
    "else:\n",
    "    print(\"NO\")\n",
    "# перваи диагональ - идёт на убывание, суммые координат \n",
    "# одинаковые на каждой клетке. Вторая диагональ идёт на увеличение, разности x-ов и y-ов одинаковые.\n",
    "                                                    "
   ]
  },
  {
   "cell_type": "code",
   "execution_count": null,
   "id": "1b36857a-8680-4306-b8b7-6c42e91fb236",
   "metadata": {},
   "outputs": [],
   "source": [
    "№9 Ход ферзя"
   ]
  },
  {
   "cell_type": "code",
   "execution_count": null,
   "id": "ecb9ff9a-c159-4ef2-ae60-6865f790aa4a",
   "metadata": {},
   "outputs": [],
   "source": [
    "x1 = int(input())\n",
    "y1 = int(input())\n",
    "x2 = int(input())\n",
    "y2 = int(input())\n",
    "if (\n",
    "    (x2 + y2 == x1 + y1)\n",
    "    or (x1 - x2 == y1 - y2)\n",
    "    or x1 == x2\n",
    "    or y1 == y2\n",
    "    or (\n",
    "        (\n",
    "            ((x1 == x2) and ((y1 - y2 == 1) or (y2 - y1 == 1)))\n",
    "            or (y1 == y2 and ((x1 - x2 == 1) or (x2 - x1 == 1)))\n",
    "            or (\n",
    "                ((x1 - x2 == 1) or (x2 - x1 == 1))\n",
    "                and ((y1 - y2 == 1) or (y2 - y1 == 1))\n",
    "            )\n",
    "        )\n",
    "    )\n",
    "):\n",
    "    print(\"YES\")\n",
    "else:\n",
    "    print(\"NO\")\n",
    "#Объединяем две фигуры в одну = ладья + слон"
   ]
  }
 ],
 "metadata": {
  "kernelspec": {
   "display_name": "Python 3 (ipykernel)",
   "language": "python",
   "name": "python3"
  },
  "language_info": {
   "codemirror_mode": {
    "name": "ipython",
    "version": 3
   },
   "file_extension": ".py",
   "mimetype": "text/x-python",
   "name": "python",
   "nbconvert_exporter": "python",
   "pygments_lexer": "ipython3",
   "version": "3.11.11"
  }
 },
 "nbformat": 4,
 "nbformat_minor": 5
}
