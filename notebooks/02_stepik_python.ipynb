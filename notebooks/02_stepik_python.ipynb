{
 "cells": [
  {
   "cell_type": "code",
   "execution_count": null,
   "id": "36464086-6285-48b3-b339-39e8f62a535d",
   "metadata": {},
   "outputs": [],
   "source": [
    "№1 Алгоритм получения цифр n-значного числа на примере четырёхзначного числа"
   ]
  },
  {
   "cell_type": "code",
   "execution_count": null,
   "id": "be764c16-5e5a-41de-91a2-60c22f089534",
   "metadata": {},
   "outputs": [],
   "source": [
    "number = int(input())  # 3281\n",
    "first_digit = (\n",
    "    number // 1000\n",
    ")  # вычлиняем первую цифру, берём 1000, т.к по условию число четырёхзначное\n",
    "second_digit = (\n",
    "    number % 1000\n",
    ") // 100  # вычлиняем 281 и, производя деления от целого на 100, забираем 2\n",
    "third_digit = (number % 100) // 10  # вычлиняем 81 и затем 8.\n",
    "fourth_digit = number % 10  # вычлиняем последнюю цифру.\n",
    "print(\"Цифра в позиции тысяч равна\", first_digit)\n",
    "print(\"Цифра в позиции сотен равна\", second_digit)\n",
    "print(\"Цифра в позиции десятков равна\", third_digit)\n",
    "print(\"Цифра в позиции единиц равна\", fourth_digit)\n"
   ]
  },
  {
   "cell_type": "code",
   "execution_count": null,
   "id": "cd8664ed-919e-411b-9d54-dfbbe21a5bec",
   "metadata": {},
   "outputs": [],
   "source": [
    "№2 Алгоритм получения цифр n-значного числа на примере пятизначного числа"
   ]
  },
  {
   "cell_type": "code",
   "execution_count": null,
   "id": "6f5aa66d-4a05-48c3-b197-220219ad5d7c",
   "metadata": {},
   "outputs": [],
   "source": [
    "number = int(input())  # 32812\n",
    "first_digit = number // 10000 # вычлиняем первую цифру\n",
    "second_digit = (number % 10000) // 1000 # отделяем десятитысячную часть и вычленяем первую цифру из тысячной части\n",
    "third_digit = (number % 1000) // 100 # отделяем тысячную часть и вычленяем первую цифру из сотой части\n",
    "fourth_digit = (number % 100) // 10 # отделяем сотую часть и вычленяем первую цифру из оставшихся десятков\n",
    "fifth_digit = number % 10 # с помощью остатка от деления получаем последнюю цифру\n",
    "print(\"Цифра в позиции десятков тысяч равна\", first_digit)\n",
    "print(\"Цифра в позиции тысяч равна\", second_digit)\n",
    "print(\"Цифра в позиции сотен равна\", third_digit)\n",
    "print(\"Цифра в позиции десятков равна\", fourth_digit)\n",
    "print(\"Цифра в позиции единиц равна\", fifth_digit)"
   ]
  },
  {
   "cell_type": "code",
   "execution_count": null,
   "id": "e5895aaa-1976-4dff-b446-5895e3259387",
   "metadata": {},
   "outputs": [],
   "source": [
    "№3 Напишите программу, которая проверяет, что для заданного четырехзначного числа выполняется следующее соотношение:\n",
    "сумма первой и последней цифр равна разности второй и третьей цифр."
   ]
  },
  {
   "cell_type": "code",
   "execution_count": null,
   "id": "fdad2c7f-c4c4-459a-9fb5-bd3594cfde36",
   "metadata": {},
   "outputs": [],
   "source": [
    "number = int(input())\n",
    "first_digit = number // 1000  # вычлиняем первую цифру\n",
    "last_digit = number % 10  # избавляемся от всего, кроме единиц\n",
    "second_digit = (number % 1000) // 100  # избавляемся от тысячной части, вычленяем сотые\n",
    "third_digit = (number % 100) // 10  # избавляемся от сотой части, вычленяем десятые\n",
    "sum_1_4 = first_digit + last_digit\n",
    "difference_2_3 = second_digit - third_digit\n",
    "if sum_1_4 == difference_2_3:  # проверка условий\n",
    "    print(\"ДА\")\n",
    "else:\n",
    "    print(\"НЕТ\")\n"
   ]
  },
  {
   "cell_type": "code",
   "execution_count": null,
   "id": "eb2eb33e-13f7-4853-89b6-3f46a05f710a",
   "metadata": {},
   "outputs": [],
   "source": [
    "№4 Напишите программу, которая определяет, являются ли три заданных числа (в указанном порядке) последовательными членами арифметической прогрессии."
   ]
  },
  {
   "cell_type": "code",
   "execution_count": null,
   "id": "fa3848ea-2796-44e0-8f20-931105a13c6a",
   "metadata": {},
   "outputs": [],
   "source": [
    "num1 = int(input())\n",
    "num2 = int(input())\n",
    "num3 = int(input())\n",
    "if num3 - num2 == num2 - num1: #d значение, на которое возрастает последующий член прогрессии и равен разности следующего и предыдущего\n",
    "    print(\"YES\")\n",
    "else:\n",
    "    print(\"NO\")\n"
   ]
  }
 ],
 "metadata": {
  "kernelspec": {
   "display_name": "Python 3 (ipykernel)",
   "language": "python",
   "name": "python3"
  },
  "language_info": {
   "codemirror_mode": {
    "name": "ipython",
    "version": 3
   },
   "file_extension": ".py",
   "mimetype": "text/x-python",
   "name": "python",
   "nbconvert_exporter": "python",
   "pygments_lexer": "ipython3",
   "version": "3.11.11"
  }
 },
 "nbformat": 4,
 "nbformat_minor": 5
}
